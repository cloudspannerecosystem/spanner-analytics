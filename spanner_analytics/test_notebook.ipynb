{
 "cells": [
  {
   "cell_type": "code",
   "execution_count": null,
   "id": "3d01d9d2-f54c-4a66-a67e-76185d695da8",
   "metadata": {},
   "outputs": [],
   "source": [
    "%load_ext spanner_analytics.magic"
   ]
  },
  {
   "cell_type": "code",
   "execution_count": null,
   "id": "612f31cb-39da-4496-a4b9-a9c3f1e7811b",
   "metadata": {},
   "outputs": [],
   "source": [
    "%%spanner --project test --instance test --database test\n",
    "\n",
    "SELECT * FROM t;"
   ]
  }
 ],
 "metadata": {
  "kernelspec": {
   "display_name": "Python 3 (ipykernel)",
   "language": "python",
   "name": "python3"
  },
  "language_info": {
   "codemirror_mode": {
    "name": "ipython",
    "version": 3
   },
   "file_extension": ".py",
   "mimetype": "text/x-python",
   "name": "python",
   "nbconvert_exporter": "python",
   "pygments_lexer": "ipython3",
   "version": "3.11.4"
  }
 },
 "nbformat": 4,
 "nbformat_minor": 5
}
